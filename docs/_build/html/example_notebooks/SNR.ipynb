{
 "cells": [
  {
   "cell_type": "markdown",
   "metadata": {},
   "source": [
    "# Proper SNR estimation"
   ]
  },
  {
   "cell_type": "markdown",
   "metadata": {},
   "source": [
    "We first load the data using the `Study` class"
   ]
  },
  {
   "cell_type": "code",
   "execution_count": 1,
   "metadata": {},
   "outputs": [
    {
     "name": "stdout",
     "output_type": "stream",
     "text": [
      "Opening raw data file /media/merlin/Media/ScaledTime/MEG/eb180237/eb180237_ScaledTime_Run02_filtered_ica_sss_raw.fif...\n",
      "    Range : 100500 ... 1672499 =     50.250 ...   836.250 secs\n",
      "Ready.\n",
      "Opening raw data file /media/merlin/Media/ScaledTime/MEG/eb180237/eb180237_ScaledTime_Run02_filtered_ica_sss_raw-1.fif...\n",
      "    Range : 1672500 ... 2321999 =    836.250 ...  1160.999 secs\n",
      "Ready.\n",
      "Current compensation grade : 0\n",
      "Converting \"time\" to \"<class 'numpy.int64'>\"...\n",
      "Opening raw data file /media/merlin/Media/ScaledTime/MEG/eb180237/eb180237_ScaledTime_ER_MF_sss_raw.fif...\n",
      "    Range : 117000 ... 464999 =     58.500 ...   232.500 secs\n",
      "Ready.\n",
      "Current compensation grade : 0\n",
      "Converting \"time\" to \"<class 'numpy.int64'>\"...\n",
      "Opening raw data file /media/merlin/Media/ScaledTime/MEG/eb180237/eb180237_ScaledTime_ER_MF_sss_raw.fif...\n",
      "    Range : 117000 ... 464999 =     58.500 ...   232.500 secs\n",
      "Ready.\n",
      "Current compensation grade : 0\n",
      "Converting \"time\" to \"<class 'numpy.int64'>\"...\n",
      "incorrect\n"
     ]
    }
   ],
   "source": [
    "from megfractal.subject import Study\n",
    "\n",
    "subjects = ['eb180237']\n",
    "run_extension = [('Run02', 'filtered_ica_sss_raw'), ('ER', 'MF_sss_raw')]\n",
    "\n",
    "S = Study.from_files('ScaledTime', subjects, run_extension)"
   ]
  },
  {
   "cell_type": "markdown",
   "metadata": {},
   "source": [
    "SNR estimation in `megfractal` is performed using the empty room recording signal power as a reference, with the following formula\n",
    "\n",
    "$$\\textrm{SNR} = 10 \\left( \\log_{10} \\left(\\overline{P}\\right) - \\log_{10} \\left(\\overline{P_{ER}}\\right)\\right)$$\n",
    "\n",
    "with $\\overline{P} = \\sum_{f \\in f_{band}} \\Gamma (f)$ and $\\overline{P_{ER}} = \\sum_{f \\in f_{band}} \\Gamma_{ER} (f)$,\n",
    "\n",
    "where $\\Gamma (f)$ is the estimated Power Density Spectrum (PSD) of the signal\n",
    "and $\\Gamma_{ER} (f)$ the estimated PSD of the Empty Room recording,\n",
    "and $f_{band}$ the specified frequency band\n",
    "\n",
    "<div class=\"alert alert-info\">\n",
    "\n",
    "**Note:**\n",
    "\n",
    "This estimation is approximate, as it uses the empty room recording to estimate the sensor noise power levels,\n",
    "as it is not possible to know these noise levels during recordings where a subject is present\n",
    "    \n",
    "</div>"
   ]
  },
  {
   "cell_type": "code",
   "execution_count": 2,
   "metadata": {},
   "outputs": [],
   "source": [
    "SNR = S.runs['Run02-p1']['eb180237'].compute_SNR(S.runs['ER']['eb180237'], freq_band=(0.01, 2))"
   ]
  },
  {
   "cell_type": "markdown",
   "metadata": {},
   "source": [
    "The `compute_SNR` functions returns an estimate for each sensor, for which we can show the distribution"
   ]
  },
  {
   "cell_type": "code",
   "execution_count": 3,
   "metadata": {},
   "outputs": [
    {
     "data": {
      "text/plain": [
       "<matplotlib.axes._subplots.AxesSubplot at 0x7f2f827805d0>"
      ]
     },
     "execution_count": 3,
     "metadata": {},
     "output_type": "execute_result"
    },
    {
     "data": {
      "image/png": "[encoded data removed]",
      "text/plain": [
       "<Figure size 432x288 with 1 Axes>"
      ]
     },
     "metadata": {
      "needs_background": "light"
     },
     "output_type": "display_data"
    }
   ],
   "source": [
    "SNR.hist()"
   ]
  },
  {
   "cell_type": "markdown",
   "metadata": {},
   "source": [
    "We can use the average to give an idea of the global quality of the recording"
   ]
  },
  {
   "cell_type": "code",
   "execution_count": 4,
   "metadata": {},
   "outputs": [
    {
     "data": {
      "text/plain": [
       "0.7617525953021228"
      ]
     },
     "execution_count": 4,
     "metadata": {},
     "output_type": "execute_result"
    }
   ],
   "source": [
    "SNR.mean()"
   ]
  },
  {
   "cell_type": "markdown",
   "metadata": {},
   "source": [
    "Since the output of `compute_SNR` is in dB, we can get a linear value by performing a simple transform:"
   ]
  },
  {
   "cell_type": "code",
   "execution_count": 5,
   "metadata": {},
   "outputs": [
    {
     "data": {
      "text/plain": [
       "1.1917228307293521"
      ]
     },
     "execution_count": 5,
     "metadata": {},
     "output_type": "execute_result"
    }
   ],
   "source": [
    "10 ** (SNR.mean() / 10)"
   ]
  }
 ],
 "metadata": {
  "kernelspec": {
   "display_name": "Python [conda env:Multifracs]",
   "language": "python",
   "name": "conda-env-Multifracs-py"
  },
  "language_info": {
   "codemirror_mode": {
    "name": "ipython",
    "version": 3
   },
   "file_extension": ".py",
   "mimetype": "text/x-python",
   "name": "python",
   "nbconvert_exporter": "python",
   "pygments_lexer": "ipython3",
   "version": "3.7.5"
  }
 },
 "nbformat": 4,
 "nbformat_minor": 4
}
